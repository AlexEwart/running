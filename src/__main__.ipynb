{
 "cells": [
  {
   "cell_type": "markdown",
   "metadata": {},
   "source": [
    "# CSC 2621 Final Project: Running (Away)\n",
    "### Members: Alex Ewart, Mikhail Filippov, Benjamin Liebl\n",
    "\n",
    "In this Final Project, we will perform statistical analyses and use different models for a [Running](https://www.kaggle.com/datasets/mexwell/long-distance-running-dataset?resource=download&select=run_ww_2019_w.csv) dataset. Our hypotheses are:\n",
    "1. During the year 2020, athletes ran **less** distance overall than the same athletes in the year 2019.\n",
    "2. ..."
   ]
  },
  {
   "cell_type": "code",
   "execution_count": 15,
   "metadata": {},
   "outputs": [],
   "source": [
    "#imports\n",
    "import pandas as pd\n",
    "import numpy as np\n",
    "import matplotlib.pyplot as plt\n",
    "import seaborn as sns\n",
    "import dill\n",
    "import os\n",
    "\n",
    "if os.path.exists('final_project.db'):\n",
    "    dill.load_session('final_project.db')"
   ]
  },
  {
   "cell_type": "markdown",
   "metadata": {},
   "source": [
    "### Dataset\n",
    "TODO"
   ]
  },
  {
   "cell_type": "markdown",
   "metadata": {},
   "source": [
    "### Data Preprocessing\n",
    "TODO"
   ]
  },
  {
   "cell_type": "code",
   "execution_count": null,
   "metadata": {},
   "outputs": [
    {
     "data": {
      "text/html": [
       "<div>\n",
       "<style scoped>\n",
       "    .dataframe tbody tr th:only-of-type {\n",
       "        vertical-align: middle;\n",
       "    }\n",
       "\n",
       "    .dataframe tbody tr th {\n",
       "        vertical-align: top;\n",
       "    }\n",
       "\n",
       "    .dataframe thead th {\n",
       "        text-align: right;\n",
       "    }\n",
       "</style>\n",
       "<table border=\"1\" class=\"dataframe\">\n",
       "  <thead>\n",
       "    <tr style=\"text-align: right;\">\n",
       "      <th></th>\n",
       "      <th>Unnamed: 0</th>\n",
       "      <th>datetime</th>\n",
       "      <th>athlete</th>\n",
       "      <th>distance</th>\n",
       "      <th>duration</th>\n",
       "      <th>gender</th>\n",
       "      <th>age_group</th>\n",
       "      <th>country</th>\n",
       "      <th>major</th>\n",
       "    </tr>\n",
       "  </thead>\n",
       "  <tbody>\n",
       "    <tr>\n",
       "      <th>0</th>\n",
       "      <td>0</td>\n",
       "      <td>2019-01-01</td>\n",
       "      <td>0</td>\n",
       "      <td>0.00</td>\n",
       "      <td>0.00</td>\n",
       "      <td>F</td>\n",
       "      <td>18 - 34</td>\n",
       "      <td>United States</td>\n",
       "      <td>CHICAGO 2019</td>\n",
       "    </tr>\n",
       "    <tr>\n",
       "      <th>1</th>\n",
       "      <td>1</td>\n",
       "      <td>2019-01-01</td>\n",
       "      <td>1</td>\n",
       "      <td>5.27</td>\n",
       "      <td>30.20</td>\n",
       "      <td>M</td>\n",
       "      <td>35 - 54</td>\n",
       "      <td>Germany</td>\n",
       "      <td>BERLIN 2016</td>\n",
       "    </tr>\n",
       "    <tr>\n",
       "      <th>2</th>\n",
       "      <td>2</td>\n",
       "      <td>2019-01-01</td>\n",
       "      <td>2</td>\n",
       "      <td>9.30</td>\n",
       "      <td>98.00</td>\n",
       "      <td>M</td>\n",
       "      <td>35 - 54</td>\n",
       "      <td>United Kingdom</td>\n",
       "      <td>LONDON 2018,LONDON 2019</td>\n",
       "    </tr>\n",
       "    <tr>\n",
       "      <th>3</th>\n",
       "      <td>3</td>\n",
       "      <td>2019-01-01</td>\n",
       "      <td>3</td>\n",
       "      <td>103.13</td>\n",
       "      <td>453.40</td>\n",
       "      <td>M</td>\n",
       "      <td>18 - 34</td>\n",
       "      <td>United Kingdom</td>\n",
       "      <td>LONDON 2017</td>\n",
       "    </tr>\n",
       "    <tr>\n",
       "      <th>4</th>\n",
       "      <td>4</td>\n",
       "      <td>2019-01-01</td>\n",
       "      <td>4</td>\n",
       "      <td>34.67</td>\n",
       "      <td>185.65</td>\n",
       "      <td>M</td>\n",
       "      <td>35 - 54</td>\n",
       "      <td>United States</td>\n",
       "      <td>BOSTON 2017</td>\n",
       "    </tr>\n",
       "  </tbody>\n",
       "</table>\n",
       "</div>"
      ],
      "text/plain": [
       "   Unnamed: 0    datetime  athlete  distance  duration gender age_group  \\\n",
       "0           0  2019-01-01        0      0.00      0.00      F   18 - 34   \n",
       "1           1  2019-01-01        1      5.27     30.20      M   35 - 54   \n",
       "2           2  2019-01-01        2      9.30     98.00      M   35 - 54   \n",
       "3           3  2019-01-01        3    103.13    453.40      M   18 - 34   \n",
       "4           4  2019-01-01        4     34.67    185.65      M   35 - 54   \n",
       "\n",
       "          country                    major  \n",
       "0   United States             CHICAGO 2019  \n",
       "1         Germany              BERLIN 2016  \n",
       "2  United Kingdom  LONDON 2018,LONDON 2019  \n",
       "3  United Kingdom              LONDON 2017  \n",
       "4   United States              BOSTON 2017  "
      ]
     },
     "metadata": {},
     "output_type": "display_data"
    },
    {
     "data": {
      "text/html": [
       "<div>\n",
       "<style scoped>\n",
       "    .dataframe tbody tr th:only-of-type {\n",
       "        vertical-align: middle;\n",
       "    }\n",
       "\n",
       "    .dataframe tbody tr th {\n",
       "        vertical-align: top;\n",
       "    }\n",
       "\n",
       "    .dataframe thead th {\n",
       "        text-align: right;\n",
       "    }\n",
       "</style>\n",
       "<table border=\"1\" class=\"dataframe\">\n",
       "  <thead>\n",
       "    <tr style=\"text-align: right;\">\n",
       "      <th></th>\n",
       "      <th>Unnamed: 0</th>\n",
       "      <th>datetime</th>\n",
       "      <th>athlete</th>\n",
       "      <th>distance</th>\n",
       "      <th>duration</th>\n",
       "      <th>gender</th>\n",
       "      <th>age_group</th>\n",
       "      <th>country</th>\n",
       "      <th>major</th>\n",
       "    </tr>\n",
       "  </thead>\n",
       "  <tbody>\n",
       "    <tr>\n",
       "      <th>0</th>\n",
       "      <td>0</td>\n",
       "      <td>2020-01-01</td>\n",
       "      <td>0</td>\n",
       "      <td>0.00</td>\n",
       "      <td>0.000000</td>\n",
       "      <td>F</td>\n",
       "      <td>18 - 34</td>\n",
       "      <td>United States</td>\n",
       "      <td>CHICAGO 2019</td>\n",
       "    </tr>\n",
       "    <tr>\n",
       "      <th>1</th>\n",
       "      <td>1</td>\n",
       "      <td>2020-01-01</td>\n",
       "      <td>1</td>\n",
       "      <td>70.33</td>\n",
       "      <td>394.200000</td>\n",
       "      <td>M</td>\n",
       "      <td>35 - 54</td>\n",
       "      <td>Germany</td>\n",
       "      <td>BERLIN 2016</td>\n",
       "    </tr>\n",
       "    <tr>\n",
       "      <th>2</th>\n",
       "      <td>2</td>\n",
       "      <td>2020-01-01</td>\n",
       "      <td>2</td>\n",
       "      <td>14.65</td>\n",
       "      <td>79.066667</td>\n",
       "      <td>M</td>\n",
       "      <td>35 - 54</td>\n",
       "      <td>United Kingdom</td>\n",
       "      <td>LONDON 2018,LONDON 2019</td>\n",
       "    </tr>\n",
       "    <tr>\n",
       "      <th>3</th>\n",
       "      <td>3</td>\n",
       "      <td>2020-01-01</td>\n",
       "      <td>3</td>\n",
       "      <td>41.41</td>\n",
       "      <td>195.666667</td>\n",
       "      <td>M</td>\n",
       "      <td>18 - 34</td>\n",
       "      <td>United Kingdom</td>\n",
       "      <td>LONDON 2017</td>\n",
       "    </tr>\n",
       "    <tr>\n",
       "      <th>4</th>\n",
       "      <td>4</td>\n",
       "      <td>2020-01-01</td>\n",
       "      <td>4</td>\n",
       "      <td>41.34</td>\n",
       "      <td>209.100000</td>\n",
       "      <td>M</td>\n",
       "      <td>35 - 54</td>\n",
       "      <td>United States</td>\n",
       "      <td>BOSTON 2017</td>\n",
       "    </tr>\n",
       "  </tbody>\n",
       "</table>\n",
       "</div>"
      ],
      "text/plain": [
       "   Unnamed: 0    datetime  athlete  distance    duration gender age_group  \\\n",
       "0           0  2020-01-01        0      0.00    0.000000      F   18 - 34   \n",
       "1           1  2020-01-01        1     70.33  394.200000      M   35 - 54   \n",
       "2           2  2020-01-01        2     14.65   79.066667      M   35 - 54   \n",
       "3           3  2020-01-01        3     41.41  195.666667      M   18 - 34   \n",
       "4           4  2020-01-01        4     41.34  209.100000      M   35 - 54   \n",
       "\n",
       "          country                    major  \n",
       "0   United States             CHICAGO 2019  \n",
       "1         Germany              BERLIN 2016  \n",
       "2  United Kingdom  LONDON 2018,LONDON 2019  \n",
       "3  United Kingdom              LONDON 2017  \n",
       "4   United States              BOSTON 2017  "
      ]
     },
     "metadata": {},
     "output_type": "display_data"
    }
   ],
   "source": [
    "# load data\n",
    "if not os.path.exists('final_project.db'):\n",
    "    df_2019 = pd.read_csv('../run_ww_2019_w.csv')\n",
    "    df_2020 = pd.read_csv('../run_ww_2020_w.csv')\n",
    "\n",
    "display(df_2019.head())\n",
    "display(df_2020.head())"
   ]
  },
  {
   "cell_type": "code",
   "execution_count": 17,
   "metadata": {},
   "outputs": [
    {
     "name": "stdout",
     "output_type": "stream",
     "text": [
      "<class 'pandas.core.frame.DataFrame'>\n",
      "RangeIndex: 1893424 entries, 0 to 1893423\n",
      "Data columns (total 9 columns):\n",
      " #   Column      Dtype  \n",
      "---  ------      -----  \n",
      " 0   Unnamed: 0  int64  \n",
      " 1   datetime    object \n",
      " 2   athlete     int64  \n",
      " 3   distance    float64\n",
      " 4   duration    float64\n",
      " 5   gender      object \n",
      " 6   age_group   object \n",
      " 7   country     object \n",
      " 8   major       object \n",
      "dtypes: float64(2), int64(2), object(5)\n",
      "memory usage: 130.0+ MB\n"
     ]
    }
   ],
   "source": [
    "df_2019.info()"
   ]
  },
  {
   "cell_type": "code",
   "execution_count": 14,
   "metadata": {},
   "outputs": [
    {
     "data": {
      "text/plain": [
       "athlete  distance\n",
       "0        0.000       34\n",
       "         4.630        1\n",
       "         4.830        1\n",
       "         6.450        1\n",
       "         10.190       1\n",
       "                     ..\n",
       "37598    147.810      1\n",
       "         151.799      1\n",
       "         155.550      1\n",
       "         160.620      1\n",
       "         178.930      1\n",
       "Name: count, Length: 1437710, dtype: int64"
      ]
     },
     "execution_count": 14,
     "metadata": {},
     "output_type": "execute_result"
    }
   ],
   "source": [
    "df_2019.groupby('athlete')['distance'].value_counts()"
   ]
  },
  {
   "cell_type": "markdown",
   "metadata": {},
   "source": [
    "### Data Analysis and Visualization\n",
    "TODO"
   ]
  },
  {
   "cell_type": "markdown",
   "metadata": {},
   "source": [
    "### Data Modeling and Prediction\n",
    "TODO"
   ]
  },
  {
   "cell_type": "markdown",
   "metadata": {},
   "source": [
    "### Results\n",
    "TODO"
   ]
  },
  {
   "cell_type": "code",
   "execution_count": null,
   "metadata": {},
   "outputs": [],
   "source": [
    "# run to save state\n",
    "dill.dump_session('final_project.db')"
   ]
  }
 ],
 "metadata": {
  "kernelspec": {
   "display_name": "Python 3",
   "language": "python",
   "name": "python3"
  },
  "language_info": {
   "codemirror_mode": {
    "name": "ipython",
    "version": 3
   },
   "file_extension": ".py",
   "mimetype": "text/x-python",
   "name": "python",
   "nbconvert_exporter": "python",
   "pygments_lexer": "ipython3",
   "version": "3.13.2"
  }
 },
 "nbformat": 4,
 "nbformat_minor": 2
}
