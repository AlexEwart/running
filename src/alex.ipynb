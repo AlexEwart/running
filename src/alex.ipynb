{
 "cells": [
  {
   "cell_type": "markdown",
   "metadata": {},
   "source": [
    "# CSC 2621 Final Project: Running (Away)\n",
    "### Members: Alex Ewart, Mikhail Filippov, Benjamin Liebl\n",
    "\n",
    "In this Final Project, we will perform statistical analyses and use different models for a [Running](https://www.kaggle.com/datasets/mexwell/long-distance-running-dataset?resource=download&select=run_ww_2019_w.csv) dataset. Our hypotheses are:\n",
    "1. During the year 2020, athletes ran **less** distance overall than the same athletes in the year 2019.\n",
    "2. We can predict a runner's mileage in a given week by featurizing time series data from previous weeks/years"
   ]
  },
  {
   "cell_type": "code",
   "execution_count": 59,
   "metadata": {},
   "outputs": [],
   "source": [
    "#imports\n",
    "import pandas as pd\n",
    "import numpy as np\n",
    "import matplotlib.pyplot as plt\n",
    "import seaborn as sns\n",
    "import dill\n",
    "import os\n",
    "\n",
    "if os.path.exists('final_project.db'):\n",
    "    dill.load_session('final_project.db')"
   ]
  },
  {
   "cell_type": "code",
   "execution_count": 60,
   "metadata": {},
   "outputs": [
    {
     "data": {
      "text/html": [
       "<div>\n",
       "<style scoped>\n",
       "    .dataframe tbody tr th:only-of-type {\n",
       "        vertical-align: middle;\n",
       "    }\n",
       "\n",
       "    .dataframe tbody tr th {\n",
       "        vertical-align: top;\n",
       "    }\n",
       "\n",
       "    .dataframe thead th {\n",
       "        text-align: right;\n",
       "    }\n",
       "</style>\n",
       "<table border=\"1\" class=\"dataframe\">\n",
       "  <thead>\n",
       "    <tr style=\"text-align: right;\">\n",
       "      <th></th>\n",
       "      <th>Unnamed: 0</th>\n",
       "      <th>datetime</th>\n",
       "      <th>athlete</th>\n",
       "      <th>distance</th>\n",
       "      <th>duration</th>\n",
       "      <th>gender</th>\n",
       "      <th>age_group</th>\n",
       "      <th>country</th>\n",
       "      <th>major</th>\n",
       "    </tr>\n",
       "  </thead>\n",
       "  <tbody>\n",
       "    <tr>\n",
       "      <th>0</th>\n",
       "      <td>0</td>\n",
       "      <td>2019-01-01</td>\n",
       "      <td>0</td>\n",
       "      <td>0.000000</td>\n",
       "      <td>0.000000</td>\n",
       "      <td>F</td>\n",
       "      <td>18 - 34</td>\n",
       "      <td>United States</td>\n",
       "      <td>CHICAGO 2019</td>\n",
       "    </tr>\n",
       "    <tr>\n",
       "      <th>1</th>\n",
       "      <td>1</td>\n",
       "      <td>2019-01-01</td>\n",
       "      <td>1</td>\n",
       "      <td>5.270000</td>\n",
       "      <td>30.200000</td>\n",
       "      <td>M</td>\n",
       "      <td>35 - 54</td>\n",
       "      <td>Germany</td>\n",
       "      <td>BERLIN 2016</td>\n",
       "    </tr>\n",
       "    <tr>\n",
       "      <th>2</th>\n",
       "      <td>2</td>\n",
       "      <td>2019-01-01</td>\n",
       "      <td>2</td>\n",
       "      <td>9.300000</td>\n",
       "      <td>98.000000</td>\n",
       "      <td>M</td>\n",
       "      <td>35 - 54</td>\n",
       "      <td>United Kingdom</td>\n",
       "      <td>LONDON 2018,LONDON 2019</td>\n",
       "    </tr>\n",
       "    <tr>\n",
       "      <th>3</th>\n",
       "      <td>3</td>\n",
       "      <td>2019-01-01</td>\n",
       "      <td>3</td>\n",
       "      <td>103.130000</td>\n",
       "      <td>453.400000</td>\n",
       "      <td>M</td>\n",
       "      <td>18 - 34</td>\n",
       "      <td>United Kingdom</td>\n",
       "      <td>LONDON 2017</td>\n",
       "    </tr>\n",
       "    <tr>\n",
       "      <th>4</th>\n",
       "      <td>4</td>\n",
       "      <td>2019-01-01</td>\n",
       "      <td>4</td>\n",
       "      <td>34.670000</td>\n",
       "      <td>185.650000</td>\n",
       "      <td>M</td>\n",
       "      <td>35 - 54</td>\n",
       "      <td>United States</td>\n",
       "      <td>BOSTON 2017</td>\n",
       "    </tr>\n",
       "    <tr>\n",
       "      <th>...</th>\n",
       "      <td>...</td>\n",
       "      <td>...</td>\n",
       "      <td>...</td>\n",
       "      <td>...</td>\n",
       "      <td>...</td>\n",
       "      <td>...</td>\n",
       "      <td>...</td>\n",
       "      <td>...</td>\n",
       "      <td>...</td>\n",
       "    </tr>\n",
       "    <tr>\n",
       "      <th>3786843</th>\n",
       "      <td>1893419</td>\n",
       "      <td>2020-12-23</td>\n",
       "      <td>37594</td>\n",
       "      <td>128.154444</td>\n",
       "      <td>572.587037</td>\n",
       "      <td>M</td>\n",
       "      <td>18 - 34</td>\n",
       "      <td>United Kingdom</td>\n",
       "      <td>BERLIN 2017</td>\n",
       "    </tr>\n",
       "    <tr>\n",
       "      <th>3786844</th>\n",
       "      <td>1893420</td>\n",
       "      <td>2020-12-23</td>\n",
       "      <td>37595</td>\n",
       "      <td>20.051111</td>\n",
       "      <td>87.461111</td>\n",
       "      <td>M</td>\n",
       "      <td>18 - 34</td>\n",
       "      <td>United States</td>\n",
       "      <td>BERLIN 2019,NEW YORK 2015</td>\n",
       "    </tr>\n",
       "    <tr>\n",
       "      <th>3786845</th>\n",
       "      <td>1893421</td>\n",
       "      <td>2020-12-23</td>\n",
       "      <td>37596</td>\n",
       "      <td>144.635556</td>\n",
       "      <td>625.774074</td>\n",
       "      <td>M</td>\n",
       "      <td>18 - 34</td>\n",
       "      <td>United States</td>\n",
       "      <td>BOSTON 2017</td>\n",
       "    </tr>\n",
       "    <tr>\n",
       "      <th>3786846</th>\n",
       "      <td>1893422</td>\n",
       "      <td>2020-12-23</td>\n",
       "      <td>37597</td>\n",
       "      <td>0.000000</td>\n",
       "      <td>0.000000</td>\n",
       "      <td>F</td>\n",
       "      <td>18 - 34</td>\n",
       "      <td>United States</td>\n",
       "      <td>BOSTON 2015</td>\n",
       "    </tr>\n",
       "    <tr>\n",
       "      <th>3786847</th>\n",
       "      <td>1893423</td>\n",
       "      <td>2020-12-23</td>\n",
       "      <td>37598</td>\n",
       "      <td>102.052222</td>\n",
       "      <td>847.220370</td>\n",
       "      <td>M</td>\n",
       "      <td>35 - 54</td>\n",
       "      <td>China</td>\n",
       "      <td>TOKYO 2012</td>\n",
       "    </tr>\n",
       "  </tbody>\n",
       "</table>\n",
       "<p>3786848 rows × 9 columns</p>\n",
       "</div>"
      ],
      "text/plain": [
       "         Unnamed: 0    datetime  athlete    distance    duration gender  \\\n",
       "0                 0  2019-01-01        0    0.000000    0.000000      F   \n",
       "1                 1  2019-01-01        1    5.270000   30.200000      M   \n",
       "2                 2  2019-01-01        2    9.300000   98.000000      M   \n",
       "3                 3  2019-01-01        3  103.130000  453.400000      M   \n",
       "4                 4  2019-01-01        4   34.670000  185.650000      M   \n",
       "...             ...         ...      ...         ...         ...    ...   \n",
       "3786843     1893419  2020-12-23    37594  128.154444  572.587037      M   \n",
       "3786844     1893420  2020-12-23    37595   20.051111   87.461111      M   \n",
       "3786845     1893421  2020-12-23    37596  144.635556  625.774074      M   \n",
       "3786846     1893422  2020-12-23    37597    0.000000    0.000000      F   \n",
       "3786847     1893423  2020-12-23    37598  102.052222  847.220370      M   \n",
       "\n",
       "        age_group         country                      major  \n",
       "0         18 - 34   United States               CHICAGO 2019  \n",
       "1         35 - 54         Germany                BERLIN 2016  \n",
       "2         35 - 54  United Kingdom    LONDON 2018,LONDON 2019  \n",
       "3         18 - 34  United Kingdom                LONDON 2017  \n",
       "4         35 - 54   United States                BOSTON 2017  \n",
       "...           ...             ...                        ...  \n",
       "3786843   18 - 34  United Kingdom                BERLIN 2017  \n",
       "3786844   18 - 34   United States  BERLIN 2019,NEW YORK 2015  \n",
       "3786845   18 - 34   United States                BOSTON 2017  \n",
       "3786846   18 - 34   United States                BOSTON 2015  \n",
       "3786847   35 - 54           China                 TOKYO 2012  \n",
       "\n",
       "[3786848 rows x 9 columns]"
      ]
     },
     "execution_count": 60,
     "metadata": {},
     "output_type": "execute_result"
    }
   ],
   "source": [
    "if not os.path.exists('final_project.db'):\n",
    "    df_2019 = pd.read_csv('../run_ww_2019_w.csv')\n",
    "    df_2020 = pd.read_csv('../run_ww_2020_w.csv')\n",
    "\n",
    "    # Combine the dataframes\n",
    "    df = pd.concat([df_2019, df_2020], ignore_index=True)\n",
    "    \n",
    "df"
   ]
  },
  {
   "cell_type": "code",
   "execution_count": 61,
   "metadata": {},
   "outputs": [
    {
     "data": {
      "text/plain": [
       "Index(['Unnamed: 0', 'datetime', 'athlete', 'distance', 'duration', 'gender',\n",
       "       'age_group', 'country', 'major'],\n",
       "      dtype='object')"
      ]
     },
     "execution_count": 61,
     "metadata": {},
     "output_type": "execute_result"
    }
   ],
   "source": [
    "df.columns"
   ]
  },
  {
   "cell_type": "markdown",
   "metadata": {},
   "source": [
    "### Data Modeling and Prediction\n",
    "\n",
    "### XGBoost and Random Forest\n",
    "TODO"
   ]
  },
  {
   "cell_type": "code",
   "execution_count": null,
   "metadata": {},
   "outputs": [],
   "source": []
  },
  {
   "cell_type": "markdown",
   "metadata": {},
   "source": [
    "# ARIMA and SARIMA"
   ]
  },
  {
   "cell_type": "code",
   "execution_count": 62,
   "metadata": {},
   "outputs": [],
   "source": [
    "marathon_map = {\n",
    "    'CHICAGO': '10-12',\n",
    "    'BERLIN': '09-21',\n",
    "    'LONDON': '04-27',\n",
    "    'BOSTON': '04-21',\n",
    "    'NEW YORK': '11-02'\n",
    "}"
   ]
  },
  {
   "cell_type": "code",
   "execution_count": 63,
   "metadata": {},
   "outputs": [],
   "source": [
    "from datetime import timedelta\n",
    "df['datetime'] = pd.to_datetime(df['datetime'])\n",
    "\n",
    "df_expanded = df.copy()\n",
    "df_expanded['major_split'] = df_expanded['major'].str.split(',')\n",
    "df_expanded = df_expanded.explode('major_split')"
   ]
  },
  {
   "cell_type": "code",
   "execution_count": 64,
   "metadata": {},
   "outputs": [],
   "source": [
    "df_expanded[['event', 'year']] = df_expanded['major_split'].str.extract(r'(\\D+)\\s+(\\d{4})')\n",
    "df_expanded['event'] = df_expanded['event'].str.strip()\n",
    "df_expanded['year'] = df_expanded['year'].astype(int)\n",
    "df_expanded['major_date'] = pd.to_datetime(\n",
    "    df_expanded['year'].astype(str) + '-' + df_expanded['event'].map(marathon_map),\n",
    "    errors='coerce'\n",
    ")"
   ]
  },
  {
   "cell_type": "code",
   "execution_count": 65,
   "metadata": {},
   "outputs": [
    {
     "data": {
      "text/html": [
       "<div>\n",
       "<style scoped>\n",
       "    .dataframe tbody tr th:only-of-type {\n",
       "        vertical-align: middle;\n",
       "    }\n",
       "\n",
       "    .dataframe tbody tr th {\n",
       "        vertical-align: top;\n",
       "    }\n",
       "\n",
       "    .dataframe thead th {\n",
       "        text-align: right;\n",
       "    }\n",
       "</style>\n",
       "<table border=\"1\" class=\"dataframe\">\n",
       "  <thead>\n",
       "    <tr style=\"text-align: right;\">\n",
       "      <th></th>\n",
       "      <th>within_month_before</th>\n",
       "      <th>within_month_after</th>\n",
       "    </tr>\n",
       "  </thead>\n",
       "  <tbody>\n",
       "    <tr>\n",
       "      <th>0</th>\n",
       "      <td>False</td>\n",
       "      <td>False</td>\n",
       "    </tr>\n",
       "    <tr>\n",
       "      <th>1</th>\n",
       "      <td>False</td>\n",
       "      <td>False</td>\n",
       "    </tr>\n",
       "    <tr>\n",
       "      <th>2</th>\n",
       "      <td>False</td>\n",
       "      <td>False</td>\n",
       "    </tr>\n",
       "    <tr>\n",
       "      <th>3</th>\n",
       "      <td>False</td>\n",
       "      <td>False</td>\n",
       "    </tr>\n",
       "    <tr>\n",
       "      <th>4</th>\n",
       "      <td>False</td>\n",
       "      <td>False</td>\n",
       "    </tr>\n",
       "    <tr>\n",
       "      <th>...</th>\n",
       "      <td>...</td>\n",
       "      <td>...</td>\n",
       "    </tr>\n",
       "    <tr>\n",
       "      <th>3786843</th>\n",
       "      <td>False</td>\n",
       "      <td>False</td>\n",
       "    </tr>\n",
       "    <tr>\n",
       "      <th>3786844</th>\n",
       "      <td>False</td>\n",
       "      <td>False</td>\n",
       "    </tr>\n",
       "    <tr>\n",
       "      <th>3786845</th>\n",
       "      <td>False</td>\n",
       "      <td>False</td>\n",
       "    </tr>\n",
       "    <tr>\n",
       "      <th>3786846</th>\n",
       "      <td>False</td>\n",
       "      <td>False</td>\n",
       "    </tr>\n",
       "    <tr>\n",
       "      <th>3786847</th>\n",
       "      <td>False</td>\n",
       "      <td>False</td>\n",
       "    </tr>\n",
       "  </tbody>\n",
       "</table>\n",
       "<p>3786848 rows × 2 columns</p>\n",
       "</div>"
      ],
      "text/plain": [
       "         within_month_before  within_month_after\n",
       "0                      False               False\n",
       "1                      False               False\n",
       "2                      False               False\n",
       "3                      False               False\n",
       "4                      False               False\n",
       "...                      ...                 ...\n",
       "3786843                False               False\n",
       "3786844                False               False\n",
       "3786845                False               False\n",
       "3786846                False               False\n",
       "3786847                False               False\n",
       "\n",
       "[3786848 rows x 2 columns]"
      ]
     },
     "execution_count": 65,
     "metadata": {},
     "output_type": "execute_result"
    }
   ],
   "source": [
    "one_month = pd.Timedelta(days=30)\n",
    "\n",
    "# Check conditions\n",
    "df_expanded['within_month_before'] = (\n",
    "    (df_expanded['datetime'] > df_expanded['major_date'] - one_month) &\n",
    "    (df_expanded['datetime'] <= df_expanded['major_date'])\n",
    ")\n",
    "\n",
    "df_expanded['within_month_after'] = (\n",
    "    (df_expanded['datetime'] > df_expanded['major_date']) &\n",
    "    (df_expanded['datetime'] <= df_expanded['major_date'] + one_month)\n",
    ")\n",
    "\n",
    "# Group back to original rows and aggregate using any()\n",
    "df_result = df_expanded.groupby(df_expanded.index)[['within_month_before', 'within_month_after']].any()\n",
    "df_result"
   ]
  },
  {
   "cell_type": "code",
   "execution_count": 66,
   "metadata": {},
   "outputs": [],
   "source": [
    "# Merge back into original df\n",
    "df = df.join(df_result)"
   ]
  },
  {
   "cell_type": "code",
   "execution_count": 67,
   "metadata": {},
   "outputs": [],
   "source": [
    "df = df.drop(columns='major')"
   ]
  },
  {
   "cell_type": "code",
   "execution_count": 69,
   "metadata": {},
   "outputs": [
    {
     "data": {
      "text/plain": [
       "Index(['Unnamed: 0', 'datetime', 'athlete', 'distance', 'duration', 'gender',\n",
       "       'age_group', 'country', 'within_month_before', 'within_month_after'],\n",
       "      dtype='object')"
      ]
     },
     "execution_count": 69,
     "metadata": {},
     "output_type": "execute_result"
    }
   ],
   "source": [
    "df.columns"
   ]
  },
  {
   "cell_type": "code",
   "execution_count": 70,
   "metadata": {},
   "outputs": [
    {
     "name": "stdout",
     "output_type": "stream",
     "text": [
      "Requirement already satisfied: keras in c:\\users\\ewarta\\appdata\\local\\programs\\python\\python312\\lib\\site-packages (3.6.0)\n",
      "Requirement already satisfied: absl-py in c:\\users\\ewarta\\appdata\\local\\programs\\python\\python312\\lib\\site-packages (from keras) (2.1.0)\n",
      "Requirement already satisfied: numpy in c:\\users\\ewarta\\appdata\\local\\programs\\python\\python312\\lib\\site-packages (from keras) (2.0.2)\n",
      "Requirement already satisfied: rich in c:\\users\\ewarta\\appdata\\local\\programs\\python\\python312\\lib\\site-packages (from keras) (13.9.4)\n",
      "Requirement already satisfied: namex in c:\\users\\ewarta\\appdata\\local\\programs\\python\\python312\\lib\\site-packages (from keras) (0.0.8)\n",
      "Requirement already satisfied: h5py in c:\\users\\ewarta\\appdata\\local\\programs\\python\\python312\\lib\\site-packages (from keras) (3.12.1)\n",
      "Requirement already satisfied: optree in c:\\users\\ewarta\\appdata\\local\\programs\\python\\python312\\lib\\site-packages (from keras) (0.13.1)\n",
      "Requirement already satisfied: ml-dtypes in c:\\users\\ewarta\\appdata\\local\\programs\\python\\python312\\lib\\site-packages (from keras) (0.4.1)\n",
      "Requirement already satisfied: packaging in c:\\users\\ewarta\\appdata\\local\\programs\\python\\python312\\lib\\site-packages (from keras) (24.2)\n",
      "Requirement already satisfied: typing-extensions>=4.5.0 in c:\\users\\ewarta\\appdata\\local\\programs\\python\\python312\\lib\\site-packages (from optree->keras) (4.12.2)\n",
      "Requirement already satisfied: markdown-it-py>=2.2.0 in c:\\users\\ewarta\\appdata\\local\\programs\\python\\python312\\lib\\site-packages (from rich->keras) (3.0.0)\n",
      "Requirement already satisfied: pygments<3.0.0,>=2.13.0 in c:\\users\\ewarta\\appdata\\local\\programs\\python\\python312\\lib\\site-packages (from rich->keras) (2.18.0)\n",
      "Requirement already satisfied: mdurl~=0.1 in c:\\users\\ewarta\\appdata\\local\\programs\\python\\python312\\lib\\site-packages (from markdown-it-py>=2.2.0->rich->keras) (0.1.2)\n"
     ]
    },
    {
     "name": "stderr",
     "output_type": "stream",
     "text": [
      "\n",
      "[notice] A new release of pip is available: 24.2 -> 25.1\n",
      "[notice] To update, run: python.exe -m pip install --upgrade pip\n"
     ]
    },
    {
     "name": "stdout",
     "output_type": "stream",
     "text": [
      "Requirement already satisfied: tensorflow in c:\\users\\ewarta\\appdata\\local\\programs\\python\\python312\\lib\\site-packages (2.18.0)"
     ]
    },
    {
     "name": "stderr",
     "output_type": "stream",
     "text": [
      "\n",
      "[notice] A new release of pip is available: 24.2 -> 25.1\n",
      "[notice] To update, run: python.exe -m pip install --upgrade pip\n"
     ]
    },
    {
     "name": "stdout",
     "output_type": "stream",
     "text": [
      "\n",
      "Requirement already satisfied: tensorflow-intel==2.18.0 in c:\\users\\ewarta\\appdata\\local\\programs\\python\\python312\\lib\\site-packages (from tensorflow) (2.18.0)\n",
      "Requirement already satisfied: absl-py>=1.0.0 in c:\\users\\ewarta\\appdata\\local\\programs\\python\\python312\\lib\\site-packages (from tensorflow-intel==2.18.0->tensorflow) (2.1.0)\n",
      "Requirement already satisfied: astunparse>=1.6.0 in c:\\users\\ewarta\\appdata\\local\\programs\\python\\python312\\lib\\site-packages (from tensorflow-intel==2.18.0->tensorflow) (1.6.3)\n",
      "Requirement already satisfied: flatbuffers>=24.3.25 in c:\\users\\ewarta\\appdata\\local\\programs\\python\\python312\\lib\\site-packages (from tensorflow-intel==2.18.0->tensorflow) (24.3.25)\n",
      "Requirement already satisfied: gast!=0.5.0,!=0.5.1,!=0.5.2,>=0.2.1 in c:\\users\\ewarta\\appdata\\local\\programs\\python\\python312\\lib\\site-packages (from tensorflow-intel==2.18.0->tensorflow) (0.6.0)\n",
      "Requirement already satisfied: google-pasta>=0.1.1 in c:\\users\\ewarta\\appdata\\local\\programs\\python\\python312\\lib\\site-packages (from tensorflow-intel==2.18.0->tensorflow) (0.2.0)\n",
      "Requirement already satisfied: libclang>=13.0.0 in c:\\users\\ewarta\\appdata\\local\\programs\\python\\python312\\lib\\site-packages (from tensorflow-intel==2.18.0->tensorflow) (18.1.1)\n",
      "Requirement already satisfied: opt-einsum>=2.3.2 in c:\\users\\ewarta\\appdata\\local\\programs\\python\\python312\\lib\\site-packages (from tensorflow-intel==2.18.0->tensorflow) (3.4.0)\n",
      "Requirement already satisfied: packaging in c:\\users\\ewarta\\appdata\\local\\programs\\python\\python312\\lib\\site-packages (from tensorflow-intel==2.18.0->tensorflow) (24.2)\n",
      "Requirement already satisfied: protobuf!=4.21.0,!=4.21.1,!=4.21.2,!=4.21.3,!=4.21.4,!=4.21.5,<6.0.0dev,>=3.20.3 in c:\\users\\ewarta\\appdata\\local\\programs\\python\\python312\\lib\\site-packages (from tensorflow-intel==2.18.0->tensorflow) (5.28.3)\n",
      "Requirement already satisfied: requests<3,>=2.21.0 in c:\\users\\ewarta\\appdata\\local\\programs\\python\\python312\\lib\\site-packages (from tensorflow-intel==2.18.0->tensorflow) (2.32.3)\n",
      "Requirement already satisfied: setuptools in c:\\users\\ewarta\\appdata\\local\\programs\\python\\python312\\lib\\site-packages (from tensorflow-intel==2.18.0->tensorflow) (69.5.1)\n",
      "Requirement already satisfied: six>=1.12.0 in c:\\users\\ewarta\\appdata\\local\\programs\\python\\python312\\lib\\site-packages (from tensorflow-intel==2.18.0->tensorflow) (1.16.0)\n",
      "Requirement already satisfied: termcolor>=1.1.0 in c:\\users\\ewarta\\appdata\\local\\programs\\python\\python312\\lib\\site-packages (from tensorflow-intel==2.18.0->tensorflow) (2.5.0)\n",
      "Requirement already satisfied: typing-extensions>=3.6.6 in c:\\users\\ewarta\\appdata\\local\\programs\\python\\python312\\lib\\site-packages (from tensorflow-intel==2.18.0->tensorflow) (4.12.2)\n",
      "Requirement already satisfied: wrapt>=1.11.0 in c:\\users\\ewarta\\appdata\\local\\programs\\python\\python312\\lib\\site-packages (from tensorflow-intel==2.18.0->tensorflow) (1.17.0)\n",
      "Requirement already satisfied: grpcio<2.0,>=1.24.3 in c:\\users\\ewarta\\appdata\\local\\programs\\python\\python312\\lib\\site-packages (from tensorflow-intel==2.18.0->tensorflow) (1.68.0)\n",
      "Requirement already satisfied: tensorboard<2.19,>=2.18 in c:\\users\\ewarta\\appdata\\local\\programs\\python\\python312\\lib\\site-packages (from tensorflow-intel==2.18.0->tensorflow) (2.18.0)\n",
      "Requirement already satisfied: keras>=3.5.0 in c:\\users\\ewarta\\appdata\\local\\programs\\python\\python312\\lib\\site-packages (from tensorflow-intel==2.18.0->tensorflow) (3.6.0)\n",
      "Requirement already satisfied: numpy<2.1.0,>=1.26.0 in c:\\users\\ewarta\\appdata\\local\\programs\\python\\python312\\lib\\site-packages (from tensorflow-intel==2.18.0->tensorflow) (2.0.2)\n",
      "Requirement already satisfied: h5py>=3.11.0 in c:\\users\\ewarta\\appdata\\local\\programs\\python\\python312\\lib\\site-packages (from tensorflow-intel==2.18.0->tensorflow) (3.12.1)\n",
      "Requirement already satisfied: ml-dtypes<0.5.0,>=0.4.0 in c:\\users\\ewarta\\appdata\\local\\programs\\python\\python312\\lib\\site-packages (from tensorflow-intel==2.18.0->tensorflow) (0.4.1)\n",
      "Requirement already satisfied: wheel<1.0,>=0.23.0 in c:\\users\\ewarta\\appdata\\local\\programs\\python\\python312\\lib\\site-packages (from astunparse>=1.6.0->tensorflow-intel==2.18.0->tensorflow) (0.45.1)\n",
      "Requirement already satisfied: rich in c:\\users\\ewarta\\appdata\\local\\programs\\python\\python312\\lib\\site-packages (from keras>=3.5.0->tensorflow-intel==2.18.0->tensorflow) (13.9.4)\n",
      "Requirement already satisfied: namex in c:\\users\\ewarta\\appdata\\local\\programs\\python\\python312\\lib\\site-packages (from keras>=3.5.0->tensorflow-intel==2.18.0->tensorflow) (0.0.8)\n",
      "Requirement already satisfied: optree in c:\\users\\ewarta\\appdata\\local\\programs\\python\\python312\\lib\\site-packages (from keras>=3.5.0->tensorflow-intel==2.18.0->tensorflow) (0.13.1)\n",
      "Requirement already satisfied: charset-normalizer<4,>=2 in c:\\users\\ewarta\\appdata\\local\\programs\\python\\python312\\lib\\site-packages (from requests<3,>=2.21.0->tensorflow-intel==2.18.0->tensorflow) (3.4.0)\n",
      "Requirement already satisfied: idna<4,>=2.5 in c:\\users\\ewarta\\appdata\\local\\programs\\python\\python312\\lib\\site-packages (from requests<3,>=2.21.0->tensorflow-intel==2.18.0->tensorflow) (3.10)\n",
      "Requirement already satisfied: urllib3<3,>=1.21.1 in c:\\users\\ewarta\\appdata\\local\\programs\\python\\python312\\lib\\site-packages (from requests<3,>=2.21.0->tensorflow-intel==2.18.0->tensorflow) (2.2.3)\n",
      "Requirement already satisfied: certifi>=2017.4.17 in c:\\users\\ewarta\\appdata\\local\\programs\\python\\python312\\lib\\site-packages (from requests<3,>=2.21.0->tensorflow-intel==2.18.0->tensorflow) (2024.8.30)\n",
      "Requirement already satisfied: markdown>=2.6.8 in c:\\users\\ewarta\\appdata\\local\\programs\\python\\python312\\lib\\site-packages (from tensorboard<2.19,>=2.18->tensorflow-intel==2.18.0->tensorflow) (3.7)\n",
      "Requirement already satisfied: tensorboard-data-server<0.8.0,>=0.7.0 in c:\\users\\ewarta\\appdata\\local\\programs\\python\\python312\\lib\\site-packages (from tensorboard<2.19,>=2.18->tensorflow-intel==2.18.0->tensorflow) (0.7.2)\n",
      "Requirement already satisfied: werkzeug>=1.0.1 in c:\\users\\ewarta\\appdata\\local\\programs\\python\\python312\\lib\\site-packages (from tensorboard<2.19,>=2.18->tensorflow-intel==2.18.0->tensorflow) (3.1.3)\n",
      "Requirement already satisfied: MarkupSafe>=2.1.1 in c:\\users\\ewarta\\appdata\\local\\programs\\python\\python312\\lib\\site-packages (from werkzeug>=1.0.1->tensorboard<2.19,>=2.18->tensorflow-intel==2.18.0->tensorflow) (3.0.2)\n",
      "Requirement already satisfied: markdown-it-py>=2.2.0 in c:\\users\\ewarta\\appdata\\local\\programs\\python\\python312\\lib\\site-packages (from rich->keras>=3.5.0->tensorflow-intel==2.18.0->tensorflow) (3.0.0)\n",
      "Requirement already satisfied: pygments<3.0.0,>=2.13.0 in c:\\users\\ewarta\\appdata\\local\\programs\\python\\python312\\lib\\site-packages (from rich->keras>=3.5.0->tensorflow-intel==2.18.0->tensorflow) (2.18.0)\n",
      "Requirement already satisfied: mdurl~=0.1 in c:\\users\\ewarta\\appdata\\local\\programs\\python\\python312\\lib\\site-packages (from markdown-it-py>=2.2.0->rich->keras>=3.5.0->tensorflow-intel==2.18.0->tensorflow) (0.1.2)\n"
     ]
    }
   ],
   "source": [
    "!pip install keras\n",
    "!pip install tensorflow\n",
    "!pip install "
   ]
  },
  {
   "cell_type": "code",
   "execution_count": 72,
   "metadata": {},
   "outputs": [],
   "source": [
    "import pandas as pd\n",
    "import numpy as np\n",
    "from sklearn.preprocessing import MinMaxScaler, OneHotEncoder\n",
    "from sklearn.compose import ColumnTransformer\n",
    "from sklearn.pipeline import Pipeline\n",
    "from tensorflow.keras.models import Sequential\n",
    "from tensorflow.keras.layers import LSTM, Dense\n",
    "from tqdm import tqdm\n",
    "\n",
    "# --- Load & prepare ---\n",
    "df['datetime'] = pd.to_datetime(df['datetime'])\n",
    "df = df.sort_values(['athlete', 'datetime'])\n",
    "\n",
    "# Drop any row with missing required values (or handle them differently)\n",
    "df = df.dropna(subset=['distance', 'duration', 'gender', 'age_group', 'country'])\n",
    "\n",
    "# --- Feature columns setup ---\n",
    "time_steps = 10\n",
    "target_col = 'distance'\n"
   ]
  },
  {
   "cell_type": "code",
   "execution_count": 80,
   "metadata": {},
   "outputs": [
    {
     "data": {
      "text/plain": [
       "<Compressed Sparse Row sparse matrix of dtype 'float64'\n",
       "\twith 16861111 stored elements and shape (3752632, 138)>"
      ]
     },
     "execution_count": 80,
     "metadata": {},
     "output_type": "execute_result"
    }
   ],
   "source": [
    "encoded_static"
   ]
  },
  {
   "cell_type": "code",
   "execution_count": 77,
   "metadata": {},
   "outputs": [
    {
     "data": {
      "text/plain": [
       "138"
      ]
     },
     "execution_count": 77,
     "metadata": {},
     "output_type": "execute_result"
    }
   ],
   "source": [
    "len(encoded_feature_names)"
   ]
  },
  {
   "cell_type": "code",
   "execution_count": 83,
   "metadata": {},
   "outputs": [],
   "source": [
    "\n",
    "static_features = ['gender', 'age_group', 'country']\n",
    "dynamic_features = ['distance', 'duration', 'within_month_before', 'within_month_after']\n",
    "\n",
    "# --- Categorical encoding ---\n",
    "encoder = ColumnTransformer(\n",
    "    transformers=[\n",
    "        ('onehot', OneHotEncoder(), static_features)\n",
    "    ],\n",
    "    remainder='passthrough'\n",
    ")\n",
    "\n",
    "# Fit the encoder on all data to get column names and transformation\n",
    "encoded_static = encoder.fit_transform(df[static_features + dynamic_features])\n",
    "encoded_feature_names = encoder.get_feature_names_out()\n",
    "\n"
   ]
  },
  {
   "cell_type": "code",
   "execution_count": 84,
   "metadata": {},
   "outputs": [],
   "source": [
    "assert encoded_static.shape[0] == df['athlete'].shape[0] == df['datetime'].shape[0] == df[target_col].shape[0]\n"
   ]
  },
  {
   "cell_type": "code",
   "execution_count": 88,
   "metadata": {},
   "outputs": [],
   "source": [
    "# Replace features with encoded versions\n",
    "processed_df = pd.DataFrame(encoded_static.toarray(), columns=encoded_feature_names)\n"
   ]
  },
  {
   "cell_type": "code",
   "execution_count": null,
   "metadata": {},
   "outputs": [],
   "source": []
  },
  {
   "cell_type": "code",
   "execution_count": null,
   "metadata": {},
   "outputs": [],
   "source": [
    "# --- Normalize per athlete ---\n",
    "X_seqs, y_targets = [], []\n",
    "scalers = {}\n",
    "\n",
    "for athlete_id, group in tqdm(processed_df.groupby('athlete')):\n",
    "    group = group.sort_values('datetime')\n",
    "    if len(group) <= time_steps:\n",
    "        continue\n",
    "    \n",
    "    feature_cols = [col for col in processed_df.columns if col not in ['athlete', 'datetime', target_col]]\n",
    "    \n",
    "    scaler = MinMaxScaler()\n",
    "    scaled = scaler.fit_transform(group[feature_cols])\n",
    "    scalers[athlete_id] = scaler\n",
    "\n",
    "    for i in range(len(group) - time_steps):\n",
    "        X_seqs.append(scaled[i:i+time_steps])\n",
    "        # predict next unscaled duration\n",
    "        y_targets.append(group[target_col].values[i+time_steps])\n",
    "\n",
    "# Final arrays\n",
    "X = np.array(X_seqs)\n",
    "y = np.array(y_targets).reshape(-1, 1)\n",
    "\n",
    "print(f\"LSTM Input Shape: {X.shape}\")  # (samples, time_steps, features)\n",
    "\n",
    "# --- LSTM Model ---\n",
    "model = Sequential()\n",
    "model.add(LSTM(64, input_shape=(X.shape[1], X.shape[2]), activation='relu'))\n",
    "model.add(Dense(1))  # Predict next duration\n",
    "model.compile(loss='mse', optimizer='adam')\n",
    "model.summary()\n",
    "\n",
    "model.fit(X, y, epochs=10, batch_size=64, verbose=1)"
   ]
  },
  {
   "cell_type": "code",
   "execution_count": null,
   "metadata": {},
   "outputs": [],
   "source": [
    "import pandas as pd\n",
    "from statsmodels.tsa.arima.model import ARIMA\n",
    "import matplotlib.pyplot as plt\n",
    "\n",
    "\n",
    "ts = df['value']\n",
    "\n",
    "# Fit ARIMA(p,d,q): ARIMA(1,1,1) as example\n",
    "model = ARIMA(ts, order=(1, 1, 1))  # p=AR, d=diff, q=MA\n",
    "results = model.fit()\n",
    "\n",
    "# Forecasting\n",
    "forecast = results.forecast(steps=10)\n",
    "print(forecast)\n",
    "\n",
    "# Plot\n",
    "ts.plot(label='Original')\n",
    "forecast.plot(label='Forecast', legend=True)\n",
    "plt.show()\n"
   ]
  },
  {
   "cell_type": "code",
   "execution_count": null,
   "metadata": {},
   "outputs": [],
   "source": [
    "from statsmodels.tsa.statespace.sarimax import SARIMAX\n",
    "\n",
    "# Fit SARIMA(1,1,1)(1,1,1,12) for monthly data with yearly seasonality\n",
    "model = SARIMAX(ts, order=(1, 1, 1), seasonal_order=(1, 1, 1, 12))\n",
    "results = model.fit()\n",
    "\n",
    "# Forecast\n",
    "forecast = results.forecast(steps=12)\n",
    "forecast.plot(label='Forecast')\n",
    "ts.plot(label='Original', legend=True)\n",
    "plt.show()\n"
   ]
  },
  {
   "cell_type": "code",
   "execution_count": null,
   "metadata": {},
   "outputs": [],
   "source": [
    "from tensorflow.keras.models import Sequential\n",
    "from tensorflow.keras.layers import LSTM, Dense\n",
    "\n",
    "# Reshape to 3D (samples, time_steps, features)\n",
    "X = X.reshape((X.shape[0], X.shape[1], 1))\n",
    "\n",
    "model = Sequential()\n",
    "model.add(LSTM(50, activation='relu', input_shape=(X.shape[1], X.shape[2])))\n",
    "model.add(Dense(1))\n",
    "model.compile(optimizer='adam', loss='mse')\n",
    "\n",
    "model.fit(X, y, epochs=20, verbose=1)\n"
   ]
  },
  {
   "cell_type": "markdown",
   "metadata": {},
   "source": [
    "### Results\n",
    "TODO"
   ]
  },
  {
   "cell_type": "code",
   "execution_count": null,
   "metadata": {},
   "outputs": [],
   "source": []
  },
  {
   "cell_type": "code",
   "execution_count": null,
   "metadata": {},
   "outputs": [],
   "source": [
    "# run to save state\n",
    "dill.dump_session('final_project.db')"
   ]
  }
 ],
 "metadata": {
  "kernelspec": {
   "display_name": "Python 3",
   "language": "python",
   "name": "python3"
  },
  "language_info": {
   "codemirror_mode": {
    "name": "ipython",
    "version": 3
   },
   "file_extension": ".py",
   "mimetype": "text/x-python",
   "name": "python",
   "nbconvert_exporter": "python",
   "pygments_lexer": "ipython3",
   "version": "3.12.7"
  }
 },
 "nbformat": 4,
 "nbformat_minor": 2
}
